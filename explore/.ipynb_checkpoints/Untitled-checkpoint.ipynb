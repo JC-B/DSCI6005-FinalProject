{
 "cells": [
  {
   "cell_type": "code",
   "execution_count": 6,
   "metadata": {
    "collapsed": true
   },
   "outputs": [],
   "source": [
    "import numpy as np\n",
    "from PIL import Image\n",
    "import os, sys\n",
    "x = np.genfromtxt('/Users/jaichitra.balakrishnan/galvanizeu/DSCI6005-FinalProject/x.txt', max_rows=50)   "
   ]
  },
  {
   "cell_type": "code",
   "execution_count": 7,
   "metadata": {},
   "outputs": [
    {
     "name": "stdout",
     "output_type": "stream",
     "text": [
      "(391, 500, 3)\n",
      "(391, 500, 3)\n"
     ]
    }
   ],
   "source": [
    "path = '/Users/jaichitra.balakrishnan/galvanizeu/DSCI6005-FinalProject/Image/'\n",
    "M = np.array([],dtype='float64')\n",
    "for item in os.listdir(path):\n",
    "    if os.path.isfile(path+\"\"+item):\n",
    "        I = np.asarray(Image.open(path+\"\"+item), dtype='float64')\n",
    "        print(I.shape)\n",
    "        #np.append(M, I, axis=0)\n",
    "    else:\n",
    "        print(os.path.isfile(path+\"\"+item))\n",
    "    #Image.fromarray(np.uint8(I))\n"
   ]
  },
  {
   "cell_type": "code",
   "execution_count": 3,
   "metadata": {},
   "outputs": [],
   "source": [
    "from skimage import data, io, filters\n",
    "collection = io.imread_collection('/Users/jaichitra.balakrishnan/galvanizeu/DSCI6005-FinalProject/Image/*')"
   ]
  },
  {
   "cell_type": "code",
   "execution_count": 4,
   "metadata": {},
   "outputs": [
    {
     "data": {
      "text/plain": [
       "skimage.io.collection.ImageCollection"
      ]
     },
     "execution_count": 4,
     "metadata": {},
     "output_type": "execute_result"
    }
   ],
   "source": [
    "type(collection)"
   ]
  },
  {
   "cell_type": "code",
   "execution_count": 14,
   "metadata": {},
   "outputs": [],
   "source": [
    "x = np.genfromtxt('/Users/jaichitra.balakrishnan/galvanizeu/DSCI6005-FinalProject/x.txt', max_rows=50)   "
   ]
  },
  {
   "cell_type": "code",
   "execution_count": 17,
   "metadata": {},
   "outputs": [
    {
     "data": {
      "text/plain": [
       "(50, 1901)"
      ]
     },
     "execution_count": 17,
     "metadata": {},
     "output_type": "execute_result"
    }
   ],
   "source": [
    "x.shape"
   ]
  },
  {
   "cell_type": "code",
   "execution_count": null,
   "metadata": {
    "collapsed": true
   },
   "outputs": [],
   "source": []
  }
 ],
 "metadata": {
  "kernelspec": {
   "display_name": "Python 3",
   "language": "python",
   "name": "python3"
  },
  "language_info": {
   "codemirror_mode": {
    "name": "ipython",
    "version": 3
   },
   "file_extension": ".py",
   "mimetype": "text/x-python",
   "name": "python",
   "nbconvert_exporter": "python",
   "pygments_lexer": "ipython3",
   "version": "3.6.1"
  }
 },
 "nbformat": 4,
 "nbformat_minor": 2
}

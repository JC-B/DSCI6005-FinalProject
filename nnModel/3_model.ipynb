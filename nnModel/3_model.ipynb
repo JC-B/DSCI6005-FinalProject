{
 "cells": [
  {
   "cell_type": "code",
   "execution_count": 1,
   "metadata": {
    "collapsed": false
   },
   "outputs": [
    {
     "name": "stdout",
     "output_type": "stream",
     "text": [
      "Overwriting model.py\n"
     ]
    }
   ],
   "source": [
    "%%writefile model.py\n",
    "import tensorflow as tf\n",
    "import numpy as np\n",
    "def build_model(width):\n",
    "    with tf.name_scope('model'):\n",
    "        grasp_image_ph = tf.placeholder('float', [None, width, width, 3])\n",
    "        keep_prob_ph = tf.placeholder('float', name='dropout')\n",
    "\n",
    "        # rgb conv\n",
    "        a1 = tf.contrib.layers.convolution2d(tf.nn.dropout(grasp_image_ph, keep_prob_ph), 32, (5, 5), activation_fn=tf.nn.relu, weights_initializer=tf.contrib.layers.xavier_initializer_conv2d(), scope='conv1')\n",
    "\n",
    "        a2 = tf.contrib.layers.convolution2d(tf.nn.dropout(a1, keep_prob_ph), 64, (3, 3), activation_fn=tf.nn.relu, weights_initializer=tf.contrib.layers.xavier_initializer_conv2d(), scope='conv2')\n",
    "        a2_max = tf.nn.max_pool(a2, (1, 3, 3, 1), (1, 2, 2, 1), 'SAME')\n",
    "        a3 = tf.contrib.layers.convolution2d(tf.nn.dropout(a2_max, keep_prob_ph), 64, (3, 3), activation_fn=tf.nn.relu, weights_initializer=tf.contrib.layers.xavier_initializer_conv2d(), scope='conv3')\n",
    "        a3_max = tf.nn.max_pool(a3, (1, 3, 3, 1), (1, 2, 2, 1), 'SAME')\n",
    "        a4 = tf.contrib.layers.convolution2d(tf.nn.dropout(a3_max, keep_prob_ph), 32, (3, 3), activation_fn=tf.nn.relu, weights_initializer=tf.contrib.layers.xavier_initializer_conv2d(), scope='conv4')\n",
    "        a4_max = tf.nn.max_pool(a4, (1, 3, 3, 1), (1, 2, 2, 1), 'SAME')\n",
    "\n",
    "        conv = a4_max\n",
    "\n",
    "        # flatten\n",
    "        conv_shape = conv.get_shape().as_list()\n",
    "        flat_dim = np.product(conv_shape[1:])\n",
    "        print ('Final shape', conv_shape, 'flat_dim', flat_dim)\n",
    "        conv_flat = tf.reshape(conv, [-1, flat_dim])\n",
    "\n",
    "        # fc\n",
    "        fc1 = tf.contrib.layers.fully_connected(conv_flat, 2, weights_initializer=tf.contrib.layers.xavier_initializer(), scope='fc1')\n",
    "\n",
    "        # prediction\n",
    "        logit = fc1\n",
    "        grasp_class_prediction = tf.nn.softmax(fc1)\n",
    "        # depth_prediction = d2\n",
    "\n",
    "        # return grasp_class_prediction, logit, grasp_image_ph, keep_prob_ph\n",
    "        return grasp_class_prediction, logit, grasp_image_ph, keep_prob_ph"
   ]
  },
  {
   "cell_type": "code",
   "execution_count": null,
   "metadata": {
    "collapsed": true
   },
   "outputs": [],
   "source": []
  },
  {
   "cell_type": "code",
   "execution_count": null,
   "metadata": {
    "collapsed": true
   },
   "outputs": [],
   "source": []
  },
  {
   "cell_type": "code",
   "execution_count": null,
   "metadata": {
    "collapsed": true
   },
   "outputs": [],
   "source": [
    "\n",
    "\n",
    "\n"
   ]
  }
 ],
 "metadata": {
  "kernelspec": {
   "display_name": "Python 3",
   "language": "python",
   "name": "python3"
  },
  "language_info": {
   "codemirror_mode": {
    "name": "ipython",
    "version": 3
   },
   "file_extension": ".py",
   "mimetype": "text/x-python",
   "name": "python",
   "nbconvert_exporter": "python",
   "pygments_lexer": "ipython3",
   "version": "3.6.0"
  }
 },
 "nbformat": 4,
 "nbformat_minor": 2
}

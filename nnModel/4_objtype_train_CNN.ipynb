{
 "cells": [
  {
   "cell_type": "code",
   "execution_count": 38,
   "metadata": {
    "collapsed": true
   },
   "outputs": [],
   "source": [
    "import torchfile\n",
    "import numpy as np\n",
    "import time, sys\n",
    "import os\n",
    "\n",
    "from keras.regularizers import l2\n",
    "from keras.models import Sequential\n",
    "from keras.layers import Convolution2D, Dense, Flatten, Activation, MaxPooling2D, Permute, AveragePooling2D\n",
    "from keras.constraints import nonneg\n",
    "from keras.utils.np_utils import to_categorical\n",
    "from keras import optimizers\n",
    "from keras.layers.advanced_activations import LeakyReLU"
   ]
  },
  {
   "cell_type": "markdown",
   "metadata": {},
   "source": [
    "# Load Data"
   ]
  },
  {
   "cell_type": "code",
   "execution_count": 2,
   "metadata": {
    "collapsed": true
   },
   "outputs": [],
   "source": [
    "train_data = torchfile.load('/home/jaichitra.balakrishnan/dl_project/DSCI6005-FinalProject/data/trainobjcat.t7')\n",
    "test_data = torchfile.load('/home/jaichitra.balakrishnan/dl_project/DSCI6005-FinalProject/data/valobjcat.t7')"
   ]
  },
  {
   "cell_type": "markdown",
   "metadata": {},
   "source": [
    "# Test and Train Data"
   ]
  },
  {
   "cell_type": "code",
   "execution_count": 66,
   "metadata": {},
   "outputs": [
    {
     "data": {
      "text/plain": [
       "((6415, 3, 128, 128), (6415,), (1604, 3, 128, 128), (1604,))"
      ]
     },
     "execution_count": 66,
     "metadata": {},
     "output_type": "execute_result"
    }
   ],
   "source": [
    "X_train = train_data[b'x'][0]\n",
    "y_train = train_data[b'y']\n",
    "X_test = test_data[b'x'][0]\n",
    "y_test = test_data[b'y']\n",
    "\n",
    "X_train.shape, y_train.shape, X_test.shape, y_test.shape"
   ]
  },
  {
   "cell_type": "code",
   "execution_count": 67,
   "metadata": {
    "collapsed": true
   },
   "outputs": [],
   "source": [
    "X_train=np.swapaxes(np.swapaxes(X_train, 1, 2), 2, 3)\n",
    "X_test=np.swapaxes(np.swapaxes(X_test, 1, 2), 2, 3)"
   ]
  },
  {
   "cell_type": "code",
   "execution_count": 68,
   "metadata": {},
   "outputs": [
    {
     "data": {
      "text/plain": [
       "((6415, 128, 128, 3), (1604, 128, 128, 3))"
      ]
     },
     "execution_count": 68,
     "metadata": {},
     "output_type": "execute_result"
    }
   ],
   "source": [
    "X_train.shape, X_test.shape"
   ]
  },
  {
   "cell_type": "markdown",
   "metadata": {},
   "source": [
    "# Model Architecture"
   ]
  },
  {
   "cell_type": "code",
   "execution_count": 39,
   "metadata": {},
   "outputs": [
    {
     "name": "stdout",
     "output_type": "stream",
     "text": [
      "_________________________________________________________________\n",
      "Layer (type)                 Output Shape              Param #   \n",
      "=================================================================\n",
      "conv (Conv2D)                (None, 500, 128, 128)     74000     \n",
      "_________________________________________________________________\n",
      "leaky_re_lu_26 (LeakyReLU)   (None, 500, 128, 128)     0         \n",
      "_________________________________________________________________\n",
      "max_pooling2d_64 (MaxPooling (None, 250, 64, 128)      0         \n",
      "_________________________________________________________________\n",
      "conv1 (Conv2D)               (None, 250, 64, 700)      2240700   \n",
      "_________________________________________________________________\n",
      "activation_42 (Activation)   (None, 250, 64, 700)      0         \n",
      "_________________________________________________________________\n",
      "max_pooling2d_65 (MaxPooling (None, 125, 32, 700)      0         \n",
      "_________________________________________________________________\n",
      "conv2 (Conv2D)               (None, 125, 32, 900)      5670900   \n",
      "_________________________________________________________________\n",
      "activation_43 (Activation)   (None, 125, 32, 900)      0         \n",
      "_________________________________________________________________\n",
      "average_pooling2d_1 (Average (None, 62, 16, 900)       0         \n",
      "_________________________________________________________________\n",
      "flatten (Flatten)            (None, 892800)            0         \n",
      "_________________________________________________________________\n",
      "softmax_weights (Dense)      (None, 282)               251769882 \n",
      "_________________________________________________________________\n",
      "softmax (Activation)         (None, 282)               0         \n",
      "=================================================================\n",
      "Total params: 259,755,482.0\n",
      "Trainable params: 259,755,482.0\n",
      "Non-trainable params: 0.0\n",
      "_________________________________________________________________\n"
     ]
    }
   ],
   "source": [
    "nb_filter = 500\n",
    "model = Sequential()\n",
    "model.add(Convolution2D(filters=nb_filter, data_format = 'channels_first', padding='same',kernel_size=(7,7), kernel_constraint=nonneg(), kernel_regularizer=l2(1e-3), name='conv', input_shape=X_train[0].shape))\n",
    "#model.add(Activation('LeakyReLU'))\n",
    "model.add(LeakyReLU(alpha=.001)) \n",
    "model.add(MaxPooling2D(pool_size=(2, 2)))\n",
    "#model.add(Permute([3, 1, 2]))\n",
    "\n",
    "model.add(Convolution2D(filters=nb_filter+200, kernel_size=(5,5), kernel_constraint=nonneg(), padding='same', kernel_regularizer=l2(1e-3), name='conv1'))\n",
    "model.add(Activation('tanh'))\n",
    "#model.add(LeakyReLU(alpha=.001)) \n",
    "model.add(MaxPooling2D(pool_size=(2, 2)))\n",
    "#model.add(Permute([3, 1, 2]))\n",
    "\n",
    "model.add(Convolution2D(filters=nb_filter+400, kernel_size=(3,3), padding='same', kernel_constraint=nonneg(), kernel_regularizer=l2(1e-3), name='conv2'))\n",
    "model.add(Activation('relu'))\n",
    "model.add(AveragePooling2D(pool_size=(2, 2)))\n",
    "#model.add(Permute([3, 1, 2]))\n",
    "\n",
    "model.add(Flatten(name='flatten'))\n",
    "model.add(Dense(units=282, kernel_regularizer=l2(1e-3), name='softmax_weights'))\n",
    "model.add(Activation('softmax', name='softmax'))\n",
    "model.summary()"
   ]
  },
  {
   "cell_type": "code",
   "execution_count": 3,
   "metadata": {
    "collapsed": true
   },
   "outputs": [],
   "source": [
    "DATA_DIR = os.getcwd().rsplit('/', 1)[0] + '/data'\n",
    "checkpoint_dir = os.getcwd().rsplit('/', 1)[0] + '/checkpoint'"
   ]
  },
  {
   "cell_type": "code",
   "execution_count": null,
   "metadata": {
    "collapsed": true
   },
   "outputs": [],
   "source": []
  }
 ],
 "metadata": {
  "kernelspec": {
   "display_name": "Python 3",
   "language": "python",
   "name": "python3"
  },
  "language_info": {
   "codemirror_mode": {
    "name": "ipython",
    "version": 3
   },
   "file_extension": ".py",
   "mimetype": "text/x-python",
   "name": "python",
   "nbconvert_exporter": "python",
   "pygments_lexer": "ipython3",
   "version": "3.5.3"
  }
 },
 "nbformat": 4,
 "nbformat_minor": 2
}

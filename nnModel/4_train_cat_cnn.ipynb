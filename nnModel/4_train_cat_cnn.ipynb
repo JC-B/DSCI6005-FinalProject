{
 "cells": [
  {
   "cell_type": "code",
   "execution_count": 3,
   "metadata": {},
   "outputs": [
    {
     "name": "stderr",
     "output_type": "stream",
     "text": [
      "Using TensorFlow backend.\n"
     ]
    }
   ],
   "source": [
    "import torchfile\n",
    "import numpy as np\n",
    "import time, sys\n",
    "import os\n",
    "\n",
    "from keras.regularizers import l2\n",
    "from keras.models import Sequential\n",
    "from keras.layers import Convolution2D, Dense, Flatten, Activation, MaxPooling2D, Permute\n",
    "from keras.constraints import nonneg\n",
    "from keras.utils.np_utils import to_categorical"
   ]
  },
  {
   "cell_type": "markdown",
   "metadata": {},
   "source": [
    "# Load Data"
   ]
  },
  {
   "cell_type": "code",
   "execution_count": 4,
   "metadata": {
    "collapsed": true
   },
   "outputs": [],
   "source": [
    "train_data = torchfile.load('/Users/jaichitra.balakrishnan/galvanizeu/DSCI6005-FinalProject/data/trainobjcat.t7')\n",
    "test_data = torchfile.load('/Users/jaichitra.balakrishnan/galvanizeu/DSCI6005-FinalProject/data/valobjcat.t7')"
   ]
  },
  {
   "cell_type": "markdown",
   "metadata": {},
   "source": [
    "# Test and Train Data"
   ]
  },
  {
   "cell_type": "code",
   "execution_count": 5,
   "metadata": {},
   "outputs": [
    {
     "data": {
      "text/plain": [
       "((6415, 3, 128, 128), (6415,), (1604, 3, 128, 128), (1604,))"
      ]
     },
     "execution_count": 5,
     "metadata": {},
     "output_type": "execute_result"
    }
   ],
   "source": [
    "X_train = train_data[b'x'][0]\n",
    "y_train = train_data[b'y']\n",
    "X_test = test_data[b'x'][0]\n",
    "y_test = test_data[b'y']\n",
    "\n",
    "X_train.shape, y_train.shape, X_test.shape, y_test.shape"
   ]
  },
  {
   "cell_type": "code",
   "execution_count": 11,
   "metadata": {},
   "outputs": [],
   "source": [
    "unique, counts = np.unique(np.concatenate((y_train,y_test), axis=0), return_counts=True)"
   ]
  },
  {
   "cell_type": "code",
   "execution_count": 14,
   "metadata": {},
   "outputs": [
    {
     "name": "stdout",
     "output_type": "stream",
     "text": [
      "[[ 26  12]\n",
      " [ 27  30]\n",
      " [ 28  30]\n",
      " [ 29  36]\n",
      " [ 30  40]\n",
      " [ 31  30]\n",
      " [ 32  20]\n",
      " [ 33  28]\n",
      " [ 34  23]\n",
      " [ 35  30]\n",
      " [ 36  29]\n",
      " [ 37  27]\n",
      " [ 38  34]\n",
      " [ 39  36]\n",
      " [ 40  36]\n",
      " [ 41  29]\n",
      " [ 42  27]\n",
      " [ 43  25]\n",
      " [ 44  25]\n",
      " [ 45  32]\n",
      " [ 46  34]\n",
      " [ 47  29]\n",
      " [ 48  44]\n",
      " [ 49  36]\n",
      " [ 50  24]\n",
      " [ 51  25]\n",
      " [ 52  27]\n",
      " [ 53  21]\n",
      " [ 54  30]\n",
      " [ 55  35]\n",
      " [ 56  14]\n",
      " [ 57  26]\n",
      " [ 58  26]\n",
      " [ 59  27]\n",
      " [ 60  25]\n",
      " [ 61   9]\n",
      " [ 62   8]\n",
      " [ 63  12]\n",
      " [ 64  21]\n",
      " [ 65  27]\n",
      " [ 66  25]\n",
      " [ 67  41]\n",
      " [ 68  21]\n",
      " [ 69  28]\n",
      " [ 70  23]\n",
      " [ 71  37]\n",
      " [ 72  46]\n",
      " [ 73  76]\n",
      " [ 74  73]\n",
      " [ 75  34]\n",
      " [ 76  29]\n",
      " [ 77  25]\n",
      " [ 78  26]\n",
      " [ 79  24]\n",
      " [ 80  23]\n",
      " [ 81  23]\n",
      " [ 82  28]\n",
      " [ 83  35]\n",
      " [ 84  36]\n",
      " [ 85  41]\n",
      " [ 86  16]\n",
      " [ 87  16]\n",
      " [ 88  18]\n",
      " [ 89  52]\n",
      " [ 90  25]\n",
      " [ 91  26]\n",
      " [ 92  28]\n",
      " [ 93  23]\n",
      " [ 94  46]\n",
      " [ 95  25]\n",
      " [ 96  27]\n",
      " [ 97  26]\n",
      " [ 98  26]\n",
      " [ 99  25]\n",
      " [100  21]\n",
      " [101  36]\n",
      " [102  28]\n",
      " [103  35]\n",
      " [104  21]\n",
      " [105  23]\n",
      " [106  44]\n",
      " [107  25]\n",
      " [108  26]\n",
      " [109  38]\n",
      " [110  37]\n",
      " [111  36]\n",
      " [112  35]\n",
      " [113  34]\n",
      " [114  29]\n",
      " [115  34]\n",
      " [116  38]\n",
      " [117  24]\n",
      " [118  20]\n",
      " [119  24]\n",
      " [120  24]\n",
      " [121  36]\n",
      " [122  25]\n",
      " [123  26]\n",
      " [124  26]\n",
      " [125  26]\n",
      " [126  23]\n",
      " [127  27]\n",
      " [128  26]\n",
      " [129  24]\n",
      " [130  22]\n",
      " [131  32]\n",
      " [132  57]\n",
      " [133  26]\n",
      " [134  32]\n",
      " [135  24]\n",
      " [136  26]\n",
      " [137  23]\n",
      " [138  31]\n",
      " [139  39]\n",
      " [140  26]\n",
      " [141  35]\n",
      " [142  42]\n",
      " [143  28]\n",
      " [144  31]\n",
      " [145  31]\n",
      " [146  31]\n",
      " [147  27]\n",
      " [148  58]\n",
      " [149  58]\n",
      " [150  65]\n",
      " [151  91]\n",
      " [152  40]\n",
      " [153  41]\n",
      " [154  40]\n",
      " [155  40]\n",
      " [156  27]\n",
      " [157  29]\n",
      " [158  42]\n",
      " [159  42]\n",
      " [160  38]\n",
      " [161  37]\n",
      " [162  50]\n",
      " [163  60]\n",
      " [164  56]\n",
      " [165  46]\n",
      " [166  48]\n",
      " [167  54]\n",
      " [168  74]\n",
      " [169  40]\n",
      " [170  55]\n",
      " [171  49]\n",
      " [172  46]\n",
      " [173  44]\n",
      " [174  42]\n",
      " [175  42]\n",
      " [176  38]\n",
      " [177  31]\n",
      " [178  27]\n",
      " [179  27]\n",
      " [180  38]\n",
      " [181  35]\n",
      " [182  32]\n",
      " [183  25]\n",
      " [184  25]\n",
      " [185  29]\n",
      " [186  64]\n",
      " [187  29]\n",
      " [188  27]\n",
      " [189  33]\n",
      " [190  27]\n",
      " [191  45]\n",
      " [192  34]\n",
      " [193  44]\n",
      " [194  43]\n",
      " [195  44]\n",
      " [196  47]\n",
      " [197  54]\n",
      " [198  45]\n",
      " [199  36]\n",
      " [200  36]\n",
      " [201  44]\n",
      " [202  43]\n",
      " [203  38]\n",
      " [204  47]\n",
      " [205  28]\n",
      " [206  30]\n",
      " [207  42]\n",
      " [208  43]\n",
      " [209  48]\n",
      " [210  31]\n",
      " [211  28]\n",
      " [212  34]\n",
      " [213  18]\n",
      " [214  32]\n",
      " [215  19]\n",
      " [216  30]\n",
      " [217  36]\n",
      " [218  33]\n",
      " [219  32]\n",
      " [220  34]\n",
      " [221  35]\n",
      " [222  33]\n",
      " [223  33]\n",
      " [224  28]\n",
      " [225  51]\n",
      " [226  39]\n",
      " [227  40]\n",
      " [228  23]\n",
      " [229  25]\n",
      " [230  27]\n",
      " [231  20]\n",
      " [232  34]\n",
      " [233  32]\n",
      " [234  38]\n",
      " [235  38]\n",
      " [236  51]\n",
      " [237  46]\n",
      " [238  50]\n",
      " [239  45]\n",
      " [240  27]\n",
      " [241  14]\n",
      " [242  31]\n",
      " [243  41]\n",
      " [244  40]\n",
      " [245  38]\n",
      " [246  36]\n",
      " [247  34]\n",
      " [248  32]\n",
      " [249  36]\n",
      " [250  31]\n",
      " [251  35]\n",
      " [252  18]\n",
      " [253  24]\n",
      " [254  23]\n",
      " [255  29]\n",
      " [268  11]\n",
      " [269  36]\n",
      " [270  22]\n",
      " [271  19]\n",
      " [272  21]\n",
      " [273  30]\n",
      " [274  25]\n",
      " [275  29]\n",
      " [276  32]\n",
      " [277  14]\n",
      " [278  13]\n",
      " [279  14]\n",
      " [280  11]\n",
      " [281  20]]\n"
     ]
    }
   ],
   "source": [
    "unique, counts\n",
    "print (np.asarray((unique, counts)).T)"
   ]
  },
  {
   "cell_type": "markdown",
   "metadata": {},
   "source": [
    "# Model Architecture"
   ]
  },
  {
   "cell_type": "code",
   "execution_count": 25,
   "metadata": {},
   "outputs": [
    {
     "name": "stdout",
     "output_type": "stream",
     "text": [
      "_________________________________________________________________\n",
      "Layer (type)                 Output Shape              Param #   \n",
      "=================================================================\n",
      "conv (Conv2D)                (None, 2000, 119, 119)    602000    \n",
      "_________________________________________________________________\n",
      "activation_35 (Activation)   (None, 2000, 119, 119)    0         \n",
      "_________________________________________________________________\n",
      "max_pooling2d_34 (MaxPooling (None, 200, 11, 119)      0         \n",
      "_________________________________________________________________\n",
      "permute_17 (Permute)         (None, 119, 200, 11)      0         \n",
      "_________________________________________________________________\n",
      "conv1 (Conv2D)               (None, 2000, 191, 2)      23802000  \n",
      "_________________________________________________________________\n",
      "activation_36 (Activation)   (None, 2000, 191, 2)      0         \n",
      "_________________________________________________________________\n",
      "max_pooling2d_35 (MaxPooling (None, 200, 19, 2)        0         \n",
      "_________________________________________________________________\n",
      "conv2 (Conv2D)               (None, 2000, 18, 1)       1602000   \n",
      "_________________________________________________________________\n",
      "activation_37 (Activation)   (None, 2000, 18, 1)       0         \n",
      "_________________________________________________________________\n",
      "max_pooling2d_36 (MaxPooling (None, 1000, 9, 1)        0         \n",
      "_________________________________________________________________\n",
      "flatten (Flatten)            (None, 9000)              0         \n",
      "_________________________________________________________________\n",
      "softmax_weights (Dense)      (None, 282)               2538282   \n",
      "_________________________________________________________________\n",
      "softmax (Activation)         (None, 282)               0         \n",
      "=================================================================\n",
      "Total params: 28,544,282.0\n",
      "Trainable params: 28,544,282.0\n",
      "Non-trainable params: 0.0\n",
      "_________________________________________________________________\n"
     ]
    }
   ],
   "source": [
    "nb_filter = 2000\n",
    "model = Sequential()\n",
    "model.add(Convolution2D(filters=nb_filter, data_format = 'channels_first', kernel_size=10, kernel_constraint=nonneg(), kernel_regularizer=l2(1e-3), name='conv', input_shape=X_train[0].shape))\n",
    "model.add(Activation('relu'))\n",
    "model.add(MaxPooling2D(pool_size=(10, 10)))\n",
    "model.add(Permute([3, 1, 2]))\n",
    "\n",
    "model.add(Convolution2D(filters=nb_filter, data_format = 'channels_first', kernel_size=10, kernel_constraint=nonneg(), kernel_regularizer=l2(1e-3), name='conv1', input_shape=X_train[0].shape))\n",
    "model.add(Activation('relu'))\n",
    "model.add(MaxPooling2D(pool_size=(10, 10)))\n",
    "\n",
    "model.add(Convolution2D(filters=nb_filter, data_format = 'channels_first', kernel_size=2, kernel_constraint=nonneg(), kernel_regularizer=l2(1e-3), name='conv2', input_shape=X_train[0].shape))\n",
    "model.add(Activation('relu'))\n",
    "model.add(MaxPooling2D(pool_size=(2, 2)))\n",
    "\n",
    "model.add(Flatten(name='flatten'))\n",
    "\n",
    "model.add(Dense(units=282, kernel_regularizer=l2(1e-3), name='softmax_weights'))\n",
    "model.add(Activation('softmax', name='softmax'))\n",
    "model.summary()"
   ]
  },
  {
   "cell_type": "markdown",
   "metadata": {},
   "source": [
    "# Fit Model"
   ]
  },
  {
   "cell_type": "code",
   "execution_count": null,
   "metadata": {},
   "outputs": [
    {
     "name": "stdout",
     "output_type": "stream",
     "text": [
      "Train on 5773 samples, validate on 642 samples\n",
      "Epoch 1/10\n",
      " 128/5773 [..............................] - ETA: 32874s - loss: 14.1124 - acc: 0.0078"
     ]
    }
   ],
   "source": [
    "model.compile(optimizer='adam', loss='categorical_crossentropy', metrics=['accuracy'])\n",
    "nb_train = len(y_train)\n",
    "model.fit(X_train[:nb_train], to_categorical(y_train[:nb_train]), validation_split=.1, epochs=10)"
   ]
  },
  {
   "cell_type": "code",
   "execution_count": 3,
   "metadata": {
    "collapsed": true
   },
   "outputs": [],
   "source": [
    "DATA_DIR = os.getcwd().rsplit('/', 1)[0] + '/data'\n",
    "checkpoint_dir = os.getcwd().rsplit('/', 1)[0] + '/checkpoint'"
   ]
  },
  {
   "cell_type": "code",
   "execution_count": null,
   "metadata": {
    "collapsed": true
   },
   "outputs": [],
   "source": []
  }
 ],
 "metadata": {
  "kernelspec": {
   "display_name": "Python 3",
   "language": "python",
   "name": "python3"
  },
  "language_info": {
   "codemirror_mode": {
    "name": "ipython",
    "version": 3
   },
   "file_extension": ".py",
   "mimetype": "text/x-python",
   "name": "python",
   "nbconvert_exporter": "python",
   "pygments_lexer": "ipython3",
   "version": "3.6.1"
  }
 },
 "nbformat": 4,
 "nbformat_minor": 2
}

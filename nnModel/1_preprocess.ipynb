{
 "cells": [
  {
   "cell_type": "code",
   "execution_count": 1,
   "metadata": {
    "collapsed": true
   },
   "outputs": [],
   "source": [
    "from PIL import Image, ImageChops\n",
    "import argparse\n",
    "import glob\n",
    "import numpy as np\n",
    "import os"
   ]
  },
  {
   "cell_type": "code",
   "execution_count": 2,
   "metadata": {
    "collapsed": true
   },
   "outputs": [],
   "source": [
    "# Dataset operations"
   ]
  },
  {
   "cell_type": "code",
   "execution_count": 3,
   "metadata": {
    "collapsed": true
   },
   "outputs": [],
   "source": [
    "RAW_WIDTH = 640\n",
    "RAW_HEIGHT = 480"
   ]
  },
  {
   "cell_type": "code",
   "execution_count": 4,
   "metadata": {
    "collapsed": true
   },
   "outputs": [],
   "source": [
    "def read_label_file(path):\n",
    "    with open(path) as f:\n",
    "        xys = []\n",
    "        has_nan = False\n",
    "        for l in f:\n",
    "            x, y = map(float, l.split())\n",
    "            # XXX some bounding boxes has nan coordinates\n",
    "            if np.isnan(x) or np.isnan(y):\n",
    "                has_nan = True\n",
    "            xys.append((x, y))\n",
    "            if len(xys) % 4 == 0 and len(xys) / 4 >= 1:\n",
    "                if not has_nan:\n",
    "                    yield xys[-4], xys[-3], xys[-2], xys[-1]\n",
    "                has_nan = False"
   ]
  },
  {
   "cell_type": "code",
   "execution_count": 5,
   "metadata": {
    "collapsed": true
   },
   "outputs": [],
   "source": [
    "def convert_pcd(path):\n",
    "    with open(path) as f:\n",
    "        # move pass the header\n",
    "        # http://pointclouds.org/documentation/tutorials/pcd_file_format.php\n",
    "        for _ in range(11):\n",
    "            f.readline()\n",
    "            pass\n",
    "        im = np.zeros((RAW_HEIGHT, RAW_WIDTH), dtype='f4')\n",
    "        for l in f:\n",
    "            d, i = l.split()[-2:]\n",
    "            d = float(d)\n",
    "            i = int(i)\n",
    "            x = i % RAW_WIDTH\n",
    "            y = i % RAW_HEIGHT\n",
    "            im[y, x] = max(0., d)\n",
    "        return im"
   ]
  },
  {
   "cell_type": "code",
   "execution_count": 6,
   "metadata": {
    "collapsed": true
   },
   "outputs": [],
   "source": [
    "def crop_image(img, box, crop_size):\n",
    "    cx, cy = np.mean(box, axis=0)\n",
    "    (x1, y1), (x2, y2) = box[:2]\n",
    "    # center the image to the bounding box\n",
    "    o = ImageChops.offset(img, int(RAW_WIDTH/2-cx), int(RAW_HEIGHT/2-cy))\n",
    "    # rotate the gripper axis to the x-axis\n",
    "    r = o.rotate(np.rad2deg(np.arctan2(y2 - y1, x2 - x1)))\n",
    "    # crop the image to a fixed size around the bounding box\n",
    "    return r.crop((RAW_WIDTH/2-crop_size/2, RAW_HEIGHT/2-crop_size/2,\n",
    "    RAW_WIDTH/2+crop_size/2, RAW_HEIGHT/2+crop_size/2))"
   ]
  },
  {
   "cell_type": "code",
   "execution_count": 7,
   "metadata": {
    "collapsed": true
   },
   "outputs": [],
   "source": [
    "# Preprocessing"
   ]
  },
  {
   "cell_type": "code",
   "execution_count": 8,
   "metadata": {
    "collapsed": true
   },
   "outputs": [],
   "source": [
    "CROP_SIZE = 128\n",
    "# strange scale in the depth data\n",
    "DEPTH_SCALE_FACTOR = 1e40"
   ]
  },
  {
   "cell_type": "code",
   "execution_count": 9,
   "metadata": {
    "collapsed": true
   },
   "outputs": [],
   "source": [
    "DATA_DIR = os.getcwd().rsplit('/', 1)[0] + '/data'"
   ]
  },
  {
   "cell_type": "code",
   "execution_count": 10,
   "metadata": {
    "collapsed": false
   },
   "outputs": [
    {
     "data": {
      "text/plain": [
       "'/home/jaichitra.balakrishnan/dl_project/DSCI6005-FinalProject/data'"
      ]
     },
     "execution_count": 10,
     "metadata": {},
     "output_type": "execute_result"
    }
   ],
   "source": [
    "DATA_DIR"
   ]
  },
  {
   "cell_type": "code",
   "execution_count": 11,
   "metadata": {
    "collapsed": true
   },
   "outputs": [],
   "source": [
    "parser = argparse.ArgumentParser()\n",
    "parser.add_argument('dataset_path')\n",
    "parser.add_argument('processed_dataset_path')\n",
    "\n",
    "#args = parser.parse_args()\n",
    "args = parser.parse_args([DATA_DIR, DATA_DIR+\"/processedData\"])"
   ]
  },
  {
   "cell_type": "code",
   "execution_count": 12,
   "metadata": {
    "collapsed": true
   },
   "outputs": [],
   "source": [
    "# set up folders\n",
    "try:\n",
    "    os.mkdir(args.processed_dataset_path)\n",
    "except:\n",
    "    pass\n",
    "try:\n",
    "    os.mkdir('%s/pos1' % args.processed_dataset_path)\n",
    "    os.mkdir('%s/neg1' % args.processed_dataset_path)\n",
    "except:\n",
    "    pass"
   ]
  },
  {
   "cell_type": "code",
   "execution_count": 13,
   "metadata": {
    "collapsed": true
   },
   "outputs": [],
   "source": [
    "obj_cat = {}\n",
    "with open('%s/processedData/z.txt' % args.dataset_path) as description_f:\n",
    "    for line in description_f:\n",
    "        sid, obj_id, category = line.split()[:3]\n",
    "        obj_cat[sid] = (obj_id, category)"
   ]
  },
  {
   "cell_type": "code",
   "execution_count": 14,
   "metadata": {
    "collapsed": true
   },
   "outputs": [],
   "source": [
    "# file format string\n",
    "# <pos|neg>/<original image id>-<bounding box id>.<png|tiff>\n",
    "filename_format = '%s-%03i'"
   ]
  },
  {
   "cell_type": "code",
   "execution_count": 15,
   "metadata": {
    "collapsed": true
   },
   "outputs": [],
   "source": [
    "dimg = Image.new('F', (RAW_WIDTH, RAW_HEIGHT))\n",
    "n_img = 0\n",
    "n_pos = 0\n",
    "n_neg = 0\n",
    "objs = set()\n",
    "cats = set()"
   ]
  },
  {
   "cell_type": "code",
   "execution_count": 16,
   "metadata": {
    "collapsed": false
   },
   "outputs": [
    {
     "name": "stdout",
     "output_type": "stream",
     "text": [
      "Dataset statistics:\n",
      "# of objects: 244\n",
      "# of object categories: 93\n",
      "# of images: 885\n",
      "# of labeled grasps: 8019 positive: 5110 (0.64) negative: 2909 (0.36)\n"
     ]
    }
   ],
   "source": [
    "for path in glob.glob('%s/*/pcd*[0-9].txt' % args.dataset_path):    \n",
    "    n_img += 1\n",
    "    sample_id = path[-len('1234.txt'):-len('.txt')]    \n",
    "    objs.add(obj_cat[sample_id][0])\n",
    "    cats.add(obj_cat[sample_id][1])    \n",
    "    dim = convert_pcd(path) \n",
    "    dimg.putdata(np.nan_to_num(dim.flatten() * DEPTH_SCALE_FACTOR))\n",
    "    with Image.open(path[:-len('.txt')]+'r.png') as cimg:\n",
    "        # positive grasps\n",
    "        for i, box in enumerate(read_label_file(path[:-len('.txt')]+'cpos.txt')):\n",
    "            n_pos += 1\n",
    "            filename = filename_format % (sample_id, i)\n",
    "            crop_image(cimg, box, CROP_SIZE).save('%s/pos/%s.png' % (args.processed_dataset_path, filename))\n",
    "            np.save('%s/pos1/%s.npy' % (args.processed_dataset_path, filename), np.reshape(crop_image(dimg, box, CROP_SIZE).getdata(), (CROP_SIZE, CROP_SIZE)))\n",
    "            np.savetxt('%s/pos1/%s.txt'% (args.processed_dataset_path, filename), ['%s,%s' %(obj_cat[sample_id][0], obj_cat[sample_id][1])], fmt='%s')\n",
    "            \n",
    "        # negative grasps\n",
    "        for i, box in enumerate(read_label_file(path[:-len('.txt')]+'cneg.txt')):\n",
    "            n_neg += 1\n",
    "            filename = filename_format % (sample_id, i)\n",
    "            crop_image(cimg, box, CROP_SIZE).save('%s/neg/%s.png' % (args.processed_dataset_path, filename))\n",
    "            np.save('%s/neg1/%s.npy' % (args.processed_dataset_path, filename), np.reshape(crop_image(dimg, box, CROP_SIZE).getdata(), (CROP_SIZE, CROP_SIZE)))\n",
    "            np.savetxt('%s/neg1/%s.txt'% (args.processed_dataset_path, filename), ['%s,%s' %(obj_cat[sample_id][0], obj_cat[sample_id][1])], fmt='%s')\n",
    "\n",
    "\n",
    "n_grasp = n_pos + n_neg\n",
    "print ('Dataset statistics:')\n",
    "print ('# of objects:', len(objs))\n",
    "print ('# of object categories:', len(cats))\n",
    "print ('# of images:', n_img)\n",
    "print ('# of labeled grasps: %i positive: %i (%.2f) negative: %i (%.2f)' % (n_grasp, n_pos, n_pos * 1./n_grasp, n_neg, n_neg * 1./n_grasp))"
   ]
  },
  {
   "cell_type": "code",
   "execution_count": null,
   "metadata": {
    "collapsed": true
   },
   "outputs": [],
   "source": []
  }
 ],
 "metadata": {
  "kernelspec": {
   "display_name": "Python 3",
   "language": "python",
   "name": "python3"
  },
  "language_info": {
   "codemirror_mode": {
    "name": "ipython",
    "version": 3
   },
   "file_extension": ".py",
   "mimetype": "text/x-python",
   "name": "python",
   "nbconvert_exporter": "python",
   "pygments_lexer": "ipython3",
   "version": "3.6.0"
  }
 },
 "nbformat": 4,
 "nbformat_minor": 2
}

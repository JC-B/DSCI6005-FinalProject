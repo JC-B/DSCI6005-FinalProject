{
 "cells": [
  {
   "cell_type": "code",
   "execution_count": 5,
   "metadata": {},
   "outputs": [],
   "source": [
    "import torchfile\n",
    "import numpy as np\n",
    "import time, sys\n",
    "import os\n",
    "\n",
    "from keras.regularizers import l2\n",
    "from __future__ import print_function\n",
    "from keras.utils import np_utils\n",
    "from keras.callbacks import ReduceLROnPlateau, CSVLogger, EarlyStopping\n",
    "\n",
    "import numpy as np\n",
    "import resnet\n",
    "import tensorflow as tf"
   ]
  },
  {
   "cell_type": "markdown",
   "metadata": {},
   "source": [
    "# Load Data"
   ]
  },
  {
   "cell_type": "code",
   "execution_count": 6,
   "metadata": {
    "collapsed": true
   },
   "outputs": [],
   "source": [
    "train_data = torchfile.load('/home/jaichitra.balakrishnan/dl_project/DSCI6005-FinalProject/data/trainobjcat.t7')\n",
    "test_data = torchfile.load('/home/jaichitra.balakrishnan/dl_project/DSCI6005-FinalProject/data/valobjcat.t7')"
   ]
  },
  {
   "cell_type": "markdown",
   "metadata": {},
   "source": [
    "# Test and Train Data"
   ]
  },
  {
   "cell_type": "code",
   "execution_count": 7,
   "metadata": {},
   "outputs": [
    {
     "data": {
      "text/plain": [
       "((6415, 128, 128, 3), (6415,), (1604, 128, 128, 3), (1604,))"
      ]
     },
     "execution_count": 7,
     "metadata": {},
     "output_type": "execute_result"
    }
   ],
   "source": [
    "X_train = train_data[b'x'][0]\n",
    "y_train = train_data[b'y']\n",
    "X_test = test_data[b'x'][0]\n",
    "y_test = test_data[b'y']\n",
    "X_train=np.swapaxes(np.swapaxes(X_train, 1, 2), 2, 3)\n",
    "X_test=np.swapaxes(np.swapaxes(X_test, 1, 2), 2, 3)\n",
    "X_train.shape, y_train.shape, X_test.shape, y_test.shape"
   ]
  },
  {
   "cell_type": "code",
   "execution_count": 8,
   "metadata": {},
   "outputs": [],
   "source": [
    "lr_reducer = ReduceLROnPlateau(factor=np.sqrt(0.1), cooldown=0, patience=5, min_lr=0.5e-6)\n",
    "early_stopper = EarlyStopping(min_delta=0.001, patience=10)\n",
    "csv_logger = CSVLogger('resnet18_robot.csv')\n",
    "\n",
    "batch_size = 32\n",
    "nb_classes = 282\n",
    "nb_epoch = 200\n",
    "data_augmentation = False\n",
    "\n",
    "# input image dimensions\n",
    "img_rows, img_cols = 128, 128\n",
    "# The CIFAR10 images are RGB.\n",
    "img_channels = 3\n",
    "\n",
    "# Convert class vectors to binary class matrices.\n",
    "Y_train = np_utils.to_categorical(y_train, nb_classes)\n",
    "Y_test = np_utils.to_categorical(y_test, nb_classes)\n",
    "\n",
    "X_train = X_train.astype('float32')\n",
    "X_test = X_test.astype('float32')\n",
    "\n",
    "# subtract mean and normalize\n",
    "#mean_image = np.mean(X_train, axis=0)\n",
    "#X_train -= mean_image\n",
    "#X_test -= mean_image\n",
    "#X_train /= 128.\n",
    "#X_test /= 128.\n",
    "\n",
    "model = resnet.ResnetBuilder.build_resnet_18((img_channels, img_rows, img_cols), nb_classes)\n",
    "model.compile(loss='categorical_crossentropy',\n",
    "              optimizer='adam',\n",
    "              metrics=['accuracy'])"
   ]
  },
  {
   "cell_type": "code",
   "execution_count": null,
   "metadata": {},
   "outputs": [],
   "source": [
    "model.summary()"
   ]
  },
  {
   "cell_type": "markdown",
   "metadata": {},
   "source": [
    "# Model Architecture"
   ]
  },
  {
   "cell_type": "markdown",
   "metadata": {},
   "source": [
    "# Fit Model"
   ]
  },
  {
   "cell_type": "code",
   "execution_count": null,
   "metadata": {
    "scrolled": true
   },
   "outputs": [
    {
     "name": "stderr",
     "output_type": "stream",
     "text": [
      "WARNING (theano.configdefaults): install mkl with `conda install mkl-service`: No module named 'mkl'\n"
     ]
    },
    {
     "name": "stdout",
     "output_type": "stream",
     "text": [
      "Train on 5773 samples, validate on 642 samples\n",
      "Epoch 1/200\n",
      "5773/5773 [==============================] - 1172s - loss: 4.8467 - acc: 0.1502 - val_loss: 6.4103 - val_acc: 0.0483\n",
      "Epoch 2/200\n",
      "5773/5773 [==============================] - 1164s - loss: 2.9723 - acc: 0.4152 - val_loss: 7.4376 - val_acc: 0.0748\n",
      "Epoch 3/200\n",
      "5773/5773 [==============================] - 1165s - loss: 2.2011 - acc: 0.5782 - val_loss: 13.3965 - val_acc: 0.0405\n",
      "Epoch 4/200\n",
      "5773/5773 [==============================] - 1133s - loss: 1.7656 - acc: 0.6849 - val_loss: 11.8058 - val_acc: 0.0654\n",
      "Epoch 5/200\n",
      "5773/5773 [==============================] - 1019s - loss: 1.5020 - acc: 0.7518 - val_loss: 8.4733 - val_acc: 0.1199\n",
      "Epoch 6/200\n",
      "5773/5773 [==============================] - 1026s - loss: 1.2959 - acc: 0.7996 - val_loss: 13.1233 - val_acc: 0.0639\n",
      "Epoch 7/200\n",
      "5773/5773 [==============================] - 972s - loss: 1.2112 - acc: 0.8164 - val_loss: 9.8304 - val_acc: 0.1262\n",
      "Epoch 8/200\n",
      "5773/5773 [==============================] - 982s - loss: 1.0884 - acc: 0.8460 - val_loss: 6.6623 - val_acc: 0.2336\n",
      "Epoch 9/200\n",
      "5773/5773 [==============================] - 1000s - loss: 0.9970 - acc: 0.8623 - val_loss: 5.7912 - val_acc: 0.2461\n",
      "Epoch 10/200\n",
      "5773/5773 [==============================] - 973s - loss: 0.9075 - acc: 0.8846 - val_loss: 11.6729 - val_acc: 0.1028\n",
      "Epoch 11/200\n",
      "5773/5773 [==============================] - 971s - loss: 0.8659 - acc: 0.8947 - val_loss: 1.9362 - val_acc: 0.6137\n",
      "Epoch 12/200\n",
      "5773/5773 [==============================] - 985s - loss: 0.8493 - acc: 0.8961 - val_loss: 4.9285 - val_acc: 0.2866\n",
      "Epoch 13/200\n",
      "5773/5773 [==============================] - 979s - loss: 0.7629 - acc: 0.9151 - val_loss: 7.1424 - val_acc: 0.2150\n",
      "Epoch 14/200\n",
      "5773/5773 [==============================] - 976s - loss: 0.7583 - acc: 0.9130 - val_loss: 12.1268 - val_acc: 0.1075\n",
      "Epoch 15/200\n",
      "5773/5773 [==============================] - 975s - loss: 0.6922 - acc: 0.9248 - val_loss: 11.7973 - val_acc: 0.1106\n",
      "Epoch 16/200\n",
      "5773/5773 [==============================] - 971s - loss: 0.6482 - acc: 0.9335 - val_loss: 14.7882 - val_acc: 0.0249\n",
      "Epoch 17/200\n",
      "5773/5773 [==============================] - 984s - loss: 0.6637 - acc: 0.9293 - val_loss: 9.2139 - val_acc: 0.1698\n",
      "Epoch 18/200\n",
      "5773/5773 [==============================] - 975s - loss: 0.6395 - acc: 0.9337 - val_loss: 13.4878 - val_acc: 0.0717\n",
      "Epoch 19/200\n",
      "5773/5773 [==============================] - 989s - loss: 0.6383 - acc: 0.9305 - val_loss: 14.3498 - val_acc: 0.0561\n",
      "Epoch 20/200\n",
      "5773/5773 [==============================] - 977s - loss: 0.5682 - acc: 0.9518 - val_loss: 11.2919 - val_acc: 0.1246\n",
      "Epoch 21/200\n",
      "5773/5773 [==============================] - 972s - loss: 0.5525 - acc: 0.9477 - val_loss: 11.1451 - val_acc: 0.1449\n",
      "Epoch 22/200\n",
      "2592/5773 [============>.................] - ETA: 513s - loss: 0.5588 - acc: 0.9460"
     ]
    }
   ],
   "source": [
    "#model.compile(optimizer='adam', loss='categorical_crossentropy', metrics=['accuracy'])\n",
    "#sgd = optimizers.SGD(lr=0.01, decay=1e-6, momentum=0.9, nesterov=True)\n",
    "#model.compile(loss='categorical_crossentropy', optimizer=sgd, metrics=['accuracy'])\n",
    "with tf.device(\"/gpu:0\"):\n",
    "    model.fit(X_train, Y_train, validation_split=.1, epochs=nb_epoch, batch_size=32)"
   ]
  },
  {
   "cell_type": "code",
   "execution_count": null,
   "metadata": {
    "collapsed": true
   },
   "outputs": [],
   "source": [
    "DATA_DIR = os.getcwd().rsplit('/', 1)[0] + '/data'\n",
    "checkpoint_dir = os.getcwd().rsplit('/', 1)[0] + '/checkpoint'"
   ]
  },
  {
   "cell_type": "code",
   "execution_count": null,
   "metadata": {
    "collapsed": true
   },
   "outputs": [],
   "source": []
  }
 ],
 "metadata": {
  "kernelspec": {
   "display_name": "Python 3",
   "language": "python",
   "name": "python3"
  },
  "language_info": {
   "codemirror_mode": {
    "name": "ipython",
    "version": 3
   },
   "file_extension": ".py",
   "mimetype": "text/x-python",
   "name": "python",
   "nbconvert_exporter": "python",
   "pygments_lexer": "ipython3",
   "version": "3.5.3"
  }
 },
 "nbformat": 4,
 "nbformat_minor": 2
}

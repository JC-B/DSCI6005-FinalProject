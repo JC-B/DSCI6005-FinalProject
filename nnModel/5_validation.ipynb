{
 "cells": [
  {
   "cell_type": "code",
   "execution_count": 1,
   "metadata": {
    "collapsed": true
   },
   "outputs": [],
   "source": [
    "import tensorflow as tf\n",
    "import torchfile\n",
    "\n",
    "import numpy as np\n",
    "import time, sys\n",
    "import os\n",
    "\n",
    "from model import build_model"
   ]
  },
  {
   "cell_type": "code",
   "execution_count": 2,
   "metadata": {
    "collapsed": true
   },
   "outputs": [],
   "source": [
    "# constants\n",
    "width = 128\n",
    "loss_lambda = 0.1"
   ]
  },
  {
   "cell_type": "code",
   "execution_count": 3,
   "metadata": {
    "collapsed": true
   },
   "outputs": [],
   "source": [
    "DATA_DIR = os.getcwd().rsplit('/', 1)[0] + '/data'\n",
    "checkpoint_dir = os.getcwd().rsplit('/', 1)[0] + '/checkpoint'"
   ]
  },
  {
   "cell_type": "code",
   "execution_count": 4,
   "metadata": {
    "collapsed": true
   },
   "outputs": [],
   "source": [
    "def convert_joint_to_dict(joint):\n",
    "    return dict(zip(joint.name, joint.position))\n",
    "\n",
    "def restore_vars(saver, sess, checkpoint_dir, path=None):\n",
    "    \"\"\" Restore saved net, global score and step, and epsilons OR\n",
    "    create checkpoint directory for later storage. \"\"\"\n",
    "    sess.run(tf.initialize_all_variables())\n",
    "\n",
    "    if not os.path.exists(checkpoint_dir):\n",
    "        try:\n",
    "            os.makedirs(checkpoint_dir)\n",
    "        except OSError:\n",
    "            pass\n",
    "\n",
    "    if path is None:\n",
    "        path = tf.train.latest_checkpoint(checkpoint_dir)    \n",
    "    \n",
    "    if path is None:\n",
    "        print ('No existing checkpoint found')\n",
    "        return False\n",
    "    else:\n",
    "        print ('Restoring from %s' % path)\n",
    "        saver.restore(sess, path)\n",
    "        return True"
   ]
  },
  {
   "cell_type": "code",
   "execution_count": 5,
   "metadata": {
    "collapsed": false
   },
   "outputs": [
    {
     "name": "stdout",
     "output_type": "stream",
     "text": [
      "Final shape [None, 16, 16, 32] flat_dim 8192\n"
     ]
    }
   ],
   "source": [
    "# model\n",
    "grasp_class_prediction, logit, grasp_image_ph, keep_prob_ph = build_model(width)\n",
    "grasp_class_ph =  tf.placeholder('int64', [None])"
   ]
  },
  {
   "cell_type": "code",
   "execution_count": 6,
   "metadata": {
    "collapsed": true
   },
   "outputs": [],
   "source": [
    "# loss\n",
    "grasp_class_loss = tf.reduce_mean(tf.nn.sparse_softmax_cross_entropy_with_logits(logits=logit, labels=grasp_class_ph), name='grasp_class_loss')\n",
    "combined_loss = grasp_class_loss"
   ]
  },
  {
   "cell_type": "code",
   "execution_count": 7,
   "metadata": {
    "collapsed": true
   },
   "outputs": [],
   "source": [
    "# evaluation\n",
    "batch = 100\n",
    "correct_prediction = tf.equal(tf.argmax(grasp_class_prediction, 1), grasp_class_ph)\n",
    "accuracy = tf.reduce_mean(tf.cast(correct_prediction, tf.float32))"
   ]
  },
  {
   "cell_type": "code",
   "execution_count": 8,
   "metadata": {
    "collapsed": true
   },
   "outputs": [],
   "source": [
    "saver = tf.train.Saver(max_to_keep=5, keep_checkpoint_every_n_hours=1)"
   ]
  },
  {
   "cell_type": "code",
   "execution_count": 12,
   "metadata": {
    "collapsed": false
   },
   "outputs": [
    {
     "name": "stdout",
     "output_type": "stream",
     "text": [
      "WARNING:tensorflow:From /home/jaichitra.balakrishnan/.local/lib/python3.5/site-packages/tensorflow/python/util/tf_should_use.py:170: initialize_all_variables (from tensorflow.python.ops.variables) is deprecated and will be removed after 2017-03-02.\n",
      "Instructions for updating:\n",
      "Use `tf.global_variables_initializer` instead.\n",
      "Restoring from /home/jaichitra.balakrishnan/dl_project/DSCI6005-FinalProject/checkpoint/model-39\n",
      "INFO:tensorflow:Restoring parameters from /home/jaichitra.balakrishnan/dl_project/DSCI6005-FinalProject/checkpoint/model-39\n",
      "1604 samples\n",
      "Loss 0.639182402011\n",
      "Accuracy: 0.63466333897\n"
     ]
    }
   ],
   "source": [
    "with tf.Session() as sess:\n",
    "    restore_vars(saver, sess, checkpoint_dir, checkpoint_dir + '/model-39')\n",
    "    val_data = torchfile.load(DATA_DIR+'/val.t7')\n",
    "    n = len(val_data[b'x'][0])\n",
    "    print ('%d samples' % n)\n",
    "    acc = 0.\n",
    "    loss = 0.\n",
    "    for i in range(int(n / batch) + 1):\n",
    "        start = batch * i\n",
    "        if n == start:\n",
    "            break\n",
    "        end = min(start + batch, n)        \n",
    "        rgb_image = val_data[b'x'][0][start:end].transpose(0, 2, 3, 1)\n",
    "        grasp_class = val_data[b'y'][start:end] - 1\n",
    "        eval_feed = {\n",
    "            grasp_image_ph: rgb_image,\n",
    "            grasp_class_ph: grasp_class,\n",
    "            keep_prob_ph: 1.,\n",
    "        }\n",
    "        loss += combined_loss.eval(feed_dict=eval_feed) * (end - start)\n",
    "        acc += accuracy.eval(feed_dict=eval_feed) * (end - start)\n",
    "    print(\"Loss\", loss / n)\n",
    "    print(\"Accuracy:\",acc / n)"
   ]
  },
  {
   "cell_type": "code",
   "execution_count": 14,
   "metadata": {
    "collapsed": false
   },
   "outputs": [
    {
     "name": "stdout",
     "output_type": "stream",
     "text": [
      "WARNING:tensorflow:From /home/jaichitra.balakrishnan/.local/lib/python3.5/site-packages/tensorflow/python/util/tf_should_use.py:170: initialize_all_variables (from tensorflow.python.ops.variables) is deprecated and will be removed after 2017-03-02.\n",
      "Instructions for updating:\n",
      "Use `tf.global_variables_initializer` instead.\n",
      "Restoring from /home/jaichitra.balakrishnan/dl_project/DSCI6005-FinalProject/checkpoint/model-99\n",
      "INFO:tensorflow:Restoring parameters from /home/jaichitra.balakrishnan/dl_project/DSCI6005-FinalProject/checkpoint/model-99\n",
      "1604 samples\n",
      "Loss 0.693147420289\n",
      "Accuracy: 0.36284289039\n"
     ]
    }
   ],
   "source": [
    "with tf.Session() as sess:\n",
    "    restore_vars(saver, sess, checkpoint_dir, checkpoint_dir + '/model-99')\n",
    "    val_data = torchfile.load(DATA_DIR+'/val.t7')\n",
    "    n = len(val_data[b'x'][0])\n",
    "    print ('%d samples' % n)\n",
    "    acc = 0.\n",
    "    loss = 0.\n",
    "    for i in range(int(n / batch) + 1):\n",
    "        start = batch * i\n",
    "        if n == start:\n",
    "            break\n",
    "        end = min(start + batch, n)        \n",
    "        rgb_image = val_data[b'x'][0][start:end].transpose(0, 2, 3, 1)\n",
    "        grasp_class = val_data[b'y'][start:end] - 1\n",
    "        eval_feed = {\n",
    "            grasp_image_ph: rgb_image,\n",
    "            grasp_class_ph: grasp_class,\n",
    "            keep_prob_ph: 1.,\n",
    "        }\n",
    "        loss += combined_loss.eval(feed_dict=eval_feed) * (end - start)\n",
    "        acc += accuracy.eval(feed_dict=eval_feed) * (end - start)\n",
    "    print(\"Loss\", loss / n)\n",
    "    print(\"Accuracy:\",acc / n)"
   ]
  },
  {
   "cell_type": "code",
   "execution_count": 13,
   "metadata": {
    "collapsed": false
   },
   "outputs": [
    {
     "name": "stdout",
     "output_type": "stream",
     "text": [
      "WARNING:tensorflow:From /home/jaichitra.balakrishnan/.local/lib/python3.5/site-packages/tensorflow/python/util/tf_should_use.py:170: initialize_all_variables (from tensorflow.python.ops.variables) is deprecated and will be removed after 2017-03-02.\n",
      "Instructions for updating:\n",
      "Use `tf.global_variables_initializer` instead.\n",
      "Restoring from /home/jaichitra.balakrishnan/dl_project/DSCI6005-FinalProject/checkpoint/model-999\n",
      "INFO:tensorflow:Restoring parameters from /home/jaichitra.balakrishnan/dl_project/DSCI6005-FinalProject/checkpoint/model-999\n",
      "1604 samples\n",
      "Loss 0.693147420289\n",
      "Accuracy: 0.36284289039\n"
     ]
    }
   ],
   "source": [
    "with tf.Session() as sess:\n",
    "    restore_vars(saver, sess, checkpoint_dir, checkpoint_dir + '/model-999')\n",
    "    val_data = torchfile.load(DATA_DIR+'/val.t7')\n",
    "    n = len(val_data[b'x'][0])\n",
    "    print ('%d samples' % n)\n",
    "    acc = 0.\n",
    "    loss = 0.\n",
    "    for i in range(int(n / batch) + 1):\n",
    "        start = batch * i\n",
    "        if n == start:\n",
    "            break\n",
    "        end = min(start + batch, n)        \n",
    "        rgb_image = val_data[b'x'][0][start:end].transpose(0, 2, 3, 1)\n",
    "        grasp_class = val_data[b'y'][start:end] - 1\n",
    "        eval_feed = {\n",
    "            grasp_image_ph: rgb_image,\n",
    "            grasp_class_ph: grasp_class,\n",
    "            keep_prob_ph: 1.,\n",
    "        }\n",
    "        loss += combined_loss.eval(feed_dict=eval_feed) * (end - start)\n",
    "        acc += accuracy.eval(feed_dict=eval_feed) * (end - start)\n",
    "    print(\"Loss\", loss / n)\n",
    "    print(\"Accuracy:\",acc / n)"
   ]
  },
  {
   "cell_type": "code",
   "execution_count": null,
   "metadata": {
    "collapsed": true
   },
   "outputs": [],
   "source": []
  }
 ],
 "metadata": {
  "kernelspec": {
   "display_name": "Python 3",
   "language": "python",
   "name": "python3"
  },
  "language_info": {
   "codemirror_mode": {
    "name": "ipython",
    "version": 3
   },
   "file_extension": ".py",
   "mimetype": "text/x-python",
   "name": "python",
   "nbconvert_exporter": "python",
   "pygments_lexer": "ipython3",
   "version": "3.6.0"
  }
 },
 "nbformat": 4,
 "nbformat_minor": 2
}

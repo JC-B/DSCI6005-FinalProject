{
 "cells": [
  {
   "cell_type": "code",
   "execution_count": 1,
   "metadata": {
    "collapsed": true
   },
   "outputs": [],
   "source": [
    "import glob\n",
    "from pylab import *\n",
    "import os\n",
    "import numpy as np"
   ]
  },
  {
   "cell_type": "code",
   "execution_count": 2,
   "metadata": {
    "collapsed": true
   },
   "outputs": [],
   "source": [
    "def ln(fns, dst_dir):\n",
    "    for p in fns:\n",
    "        fn = os.path.basename(p)\n",
    "        d = os.path.dirname(p)\n",
    "        name = fn[:-len('.png')]\n",
    "        os.symlink(p, os.path.join(dst_dir, fn))\n",
    "        os.symlink(os.path.join(d, name + '.npy'), os.path.join(dst_dir, name + '.npy'))\n",
    "        os.symlink(os.path.join(d, name + '.txt'), os.path.join(dst_dir, name + '.txt'))"
   ]
  },
  {
   "cell_type": "code",
   "execution_count": 3,
   "metadata": {
    "collapsed": true
   },
   "outputs": [],
   "source": [
    "np.random.seed(0)"
   ]
  },
  {
   "cell_type": "code",
   "execution_count": 4,
   "metadata": {
    "collapsed": true
   },
   "outputs": [],
   "source": [
    "DATA_DIR = os.getcwd().rsplit('/', 1)[0] + '/data'"
   ]
  },
  {
   "cell_type": "code",
   "execution_count": 5,
   "metadata": {
    "collapsed": true
   },
   "outputs": [],
   "source": [
    "# create train/val splits\n",
    "pos_fns = glob.glob(DATA_DIR+'/processedData/pos/*.png')\n",
    "neg_fns = glob.glob(DATA_DIR+'/processedData/neg/*.png')\n",
    "pos_fns.sort()\n",
    "neg_fns.sort()\n",
    "shuffle(pos_fns)\n",
    "shuffle(neg_fns)"
   ]
  },
  {
   "cell_type": "code",
   "execution_count": 6,
   "metadata": {
    "collapsed": true
   },
   "outputs": [],
   "source": [
    "# using 4:1 train:val ratio\n",
    "pos_split = int(floor(len(pos_fns) * 4. / 5.))\n",
    "neg_split = int(floor(len(neg_fns) * 4. / 5.))"
   ]
  },
  {
   "cell_type": "code",
   "execution_count": 7,
   "metadata": {
    "collapsed": true
   },
   "outputs": [],
   "source": [
    "train_pos = pos_fns[:pos_split]\n",
    "train_neg = neg_fns[:neg_split]\n",
    "val_pos = pos_fns[pos_split:]\n",
    "val_neg = neg_fns[neg_split:]"
   ]
  },
  {
   "cell_type": "code",
   "execution_count": 8,
   "metadata": {
    "collapsed": true
   },
   "outputs": [],
   "source": [
    "# set up train/val split folders\n",
    "try:\n",
    "    os.mkdir(DATA_DIR+'/splits')\n",
    "    os.makedirs(DATA_DIR+'/splits/train/pos')\n",
    "    os.makedirs(DATA_DIR+'/splits/train/neg')\n",
    "    os.makedirs(DATA_DIR+'/splits/val/pos')\n",
    "    os.makedirs(DATA_DIR+'/splits/val/neg')\n",
    "except:\n",
    "    pass"
   ]
  },
  {
   "cell_type": "code",
   "execution_count": 9,
   "metadata": {
    "collapsed": true
   },
   "outputs": [],
   "source": [
    "# make symbolic links\n",
    "ln(train_pos, DATA_DIR+'/splits/train/pos')\n",
    "ln(train_neg, DATA_DIR+'/splits/train/neg')\n",
    "ln(val_pos, DATA_DIR+'/splits/val/pos')\n",
    "ln(val_neg, DATA_DIR+'/splits/val/neg')"
   ]
  },
  {
   "cell_type": "code",
   "execution_count": 10,
   "metadata": {
    "collapsed": true
   },
   "outputs": [],
   "source": [
    "# create a randomly permutated list - training\n",
    "train_fn = train_pos + train_neg\n",
    "train_y = [1] * len(train_pos) + [0] * len(train_neg)\n",
    "ii = np.random.permutation(len(train_fn))\n",
    "train_objcat = []\n",
    "obj_cat = []\n",
    "with open(DATA_DIR+'/splits/train_fn.txt', 'w') as f:\n",
    "    for i in ii:\n",
    "        p = train_fn[i]\n",
    "        name = p[:-len('.png')]\n",
    "        with open(name+'.txt', 'r') as f1:\n",
    "            content = f1.readline()\n",
    "        obj_cat = content.strip(\"\\n\").split(\",\")\n",
    "        train_objcat.append(int(obj_cat[0]))\n",
    "        f.write('%s %s %s %s\\n' % (p, name+'.npy', obj_cat[0], obj_cat[1]))        \n",
    "np.save(DATA_DIR+'/splits/train_y.npy', asarray(train_y)[ii])\n",
    "np.save(DATA_DIR+'/splits/train_objcat_y.npy', asarray(train_objcat))"
   ]
  },
  {
   "cell_type": "code",
   "execution_count": 11,
   "metadata": {
    "collapsed": true
   },
   "outputs": [],
   "source": [
    "# create a randomly permutated list - validation\n",
    "val_fn = val_pos + val_neg\n",
    "val_y = [1] * len(val_pos) + [0] * len(val_neg)\n",
    "ii = np.random.permutation(len(val_fn))\n",
    "val_objcat = []\n",
    "obj_cat = []\n",
    "with open(DATA_DIR+'/splits/val_fn.txt', 'w') as f:\n",
    "    for i in ii:\n",
    "        p = val_fn[i]\n",
    "        name = p[:-len('.png')]\n",
    "        with open(name+'.txt', 'r') as f1:\n",
    "            content = f1.readline()\n",
    "        obj_cat = content.strip(\"\\n\").split(\",\")\n",
    "        val_objcat.append(int(obj_cat[0]))        \n",
    "        f.write('%s %s %s %s\\n' % (p, name+'.npy', obj_cat[0], obj_cat[1]))  \n",
    "np.save(DATA_DIR+'/splits/val_y.npy', asarray(val_y)[ii])\n",
    "np.save(DATA_DIR+'/splits/val_objcat_y.npy', asarray(val_objcat))"
   ]
  },
  {
   "cell_type": "code",
   "execution_count": 12,
   "metadata": {
    "collapsed": false
   },
   "outputs": [
    {
     "name": "stdout",
     "output_type": "stream",
     "text": [
      "Train/Validation split\n",
      "Train: 6415 Validation: 1604\n"
     ]
    }
   ],
   "source": [
    "print ('Train/Validation split')\n",
    "n_train = pos_split + neg_split\n",
    "print ('Train: %i Validation: %i' % (n_train, len(pos_fns)+len(neg_fns)-n_train))"
   ]
  },
  {
   "cell_type": "code",
   "execution_count": null,
   "metadata": {
    "collapsed": true
   },
   "outputs": [],
   "source": []
  }
 ],
 "metadata": {
  "kernelspec": {
   "display_name": "Python 3",
   "language": "python",
   "name": "python3"
  },
  "language_info": {
   "codemirror_mode": {
    "name": "ipython",
    "version": 3
   },
   "file_extension": ".py",
   "mimetype": "text/x-python",
   "name": "python",
   "nbconvert_exporter": "python",
   "pygments_lexer": "ipython3",
   "version": "3.6.0"
  }
 },
 "nbformat": 4,
 "nbformat_minor": 1
}
